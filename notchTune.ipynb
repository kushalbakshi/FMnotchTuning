{
 "cells": [
  {
   "cell_type": "code",
   "execution_count": 1,
   "id": "61b8e168-24e0-4e43-b83c-f40ddc05a2e4",
   "metadata": {},
   "outputs": [],
   "source": [
    "import numpy as np\n",
    "import matplotlib.pyplot as plt\n",
    "from scipy.io import loadmat"
   ]
  },
  {
   "cell_type": "code",
   "execution_count": 2,
   "id": "d072db13-2042-44b6-998e-4ccab855c4a4",
   "metadata": {},
   "outputs": [],
   "source": [
    "path = 'D:\\Tb104'\n",
    "sr = 40000\n",
    "poststim_window = 0.1 * sr"
   ]
  },
  {
   "cell_type": "code",
   "execution_count": 353,
   "id": "9363aebf-ed04-4d35-8b87-a4897f4d99de",
   "metadata": {},
   "outputs": [],
   "source": [
    "spikes = np.loadtxt(path+'/Spiketimes/1_FMnotch_chn32_times.txt', delimiter=',')\n",
    "spikes = spikes[:,0]\n",
    "spikes *= sr"
   ]
  },
  {
   "cell_type": "code",
   "execution_count": 354,
   "id": "0a456ae0-91c9-40e5-8937-56412d682787",
   "metadata": {},
   "outputs": [],
   "source": [
    "ts = np.asarray(loadmat(path+'/Matfile/1_FMnotch/event.mat').get('ts'))\n",
    "ts *= sr"
   ]
  },
  {
   "cell_type": "code",
   "execution_count": 355,
   "id": "f548022e-374a-4313-8cab-2f1401577de7",
   "metadata": {},
   "outputs": [],
   "source": [
    "marker = np.asarray(loadmat(path+'/Data/Tb104_1_marker_fm.mat').get('marker_fm'))"
   ]
  },
  {
   "cell_type": "code",
   "execution_count": 356,
   "id": "dd16b490-121f-4ec1-942d-1b5b84dd7d4b",
   "metadata": {},
   "outputs": [],
   "source": [
    "notch_freq = np.unique(marker)\n",
    "trial_num = len(marker)/len(notch_freq)"
   ]
  },
  {
   "cell_type": "code",
   "execution_count": 357,
   "id": "f7c99354-ad73-43aa-ae95-9909e577b922",
   "metadata": {},
   "outputs": [],
   "source": [
    "raster_mat = np.zeros((len(marker), int(poststim_window)))"
   ]
  },
  {
   "cell_type": "code",
   "execution_count": 358,
   "id": "9bcab647-2da9-4642-9b44-cc0841c4e7f3",
   "metadata": {},
   "outputs": [],
   "source": [
    "for stim in range(0, len(ts)):\n",
    "    stim_loc = (spikes[np.where((spikes > ts[stim]) & (spikes < ts[stim]+poststim_window))] - ts[stim]).astype(int)\n",
    "    if np.mean(stim_loc) > 0:\n",
    "        raster_mat[stim,stim_loc] = 1"
   ]
  },
  {
   "cell_type": "code",
   "execution_count": 359,
   "id": "998d3488-15cb-4723-b8c8-2799c71e927e",
   "metadata": {},
   "outputs": [],
   "source": [
    "raster_mat = np.append(raster_mat, marker, axis=1)"
   ]
  },
  {
   "cell_type": "code",
   "execution_count": 360,
   "id": "8780b697-f064-4046-941a-192fb5b1811e",
   "metadata": {},
   "outputs": [
    {
     "data": {
      "text/plain": [
       "(200, 4001)"
      ]
     },
     "execution_count": 360,
     "metadata": {},
     "output_type": "execute_result"
    }
   ],
   "source": [
    "raster_mat.shape"
   ]
  },
  {
   "cell_type": "code",
   "execution_count": 361,
   "id": "590ca927-4994-4078-9450-6ee2b8e50656",
   "metadata": {},
   "outputs": [],
   "source": [
    "raster_mat = raster_mat[raster_mat[:,-1].argsort()]"
   ]
  },
  {
   "cell_type": "code",
   "execution_count": 362,
   "id": "1730d6eb-bb8f-471c-b329-e0b6c45d30db",
   "metadata": {},
   "outputs": [
    {
     "data": {
      "image/png": "[encoded data removed]",
      "text/plain": [
       "<Figure size 504x720 with 10 Axes>"
      ]
     },
     "metadata": {
      "needs_background": "light"
     },
     "output_type": "display_data"
    }
   ],
   "source": [
    "fig1, axs = plt.subplots(5,2, figsize=(7,10), sharey=True, sharex=True)\n",
    "params = {'xtick.labelsize': 12, 'ytick.labelsize': 12, 'axes.labelsize': 14, 'figure.titlesize': 18,\n",
    "         'figure.titleweight': 'bold', 'lines.linewidth': 3}\n",
    "plt.rcParams.update(params)\n",
    "for n in np.arange(0,20):\n",
    "    axs[0,0].eventplot(np.asarray(np.where(raster_mat[n, :-2] == 1))/sr * 1000, lineoffsets=0+n, linelengths=0.5, colors='black')\n",
    "    axs[1,0].eventplot(np.asarray(np.where(raster_mat[n+20,:-2] == 1))/sr * 1000, lineoffsets=0+n, linelengths=0.5, colors='black')\n",
    "    axs[2,0].eventplot(np.asarray(np.where(raster_mat[n+40,:-2] == 1))/sr * 1000, lineoffsets=0+n, linelengths=0.5, colors='black')\n",
    "    axs[3,0].eventplot(np.asarray(np.where(raster_mat[n+60,:-2] == 1))/sr * 1000, lineoffsets=0+n, linelengths=0.5, colors='black')\n",
    "    axs[4,0].eventplot(np.asarray(np.where(raster_mat[n+80,:-2] == 1))/sr * 1000, lineoffsets=0+n, linelengths=0.5, colors='black')\n",
    "    axs[0,1].eventplot(np.asarray(np.where(raster_mat[n+100,:-2] == 1))/sr * 1000, lineoffsets=0+n, linelengths=0.5, colors='black')\n",
    "    axs[1,1].eventplot(np.asarray(np.where(raster_mat[n+120,:-2] == 1))/sr * 1000, lineoffsets=0+n, linelengths=0.5, colors='black')\n",
    "    axs[2,1].eventplot(np.asarray(np.where(raster_mat[n+140,:-2] == 1))/sr * 1000, lineoffsets=0+n, linelengths=0.5, colors='black')\n",
    "    axs[3,1].eventplot(np.asarray(np.where(raster_mat[n+160,:-2] == 1))/sr * 1000, lineoffsets=0+n, linelengths=0.5, colors='black')\n",
    "    axs[4,1].eventplot(np.asarray(np.where(raster_mat[n+180,:-2] == 1))/sr * 1000, lineoffsets=0+n, linelengths=0.5, colors='black')\n",
    "axs[0,0].set_title('{0} notch'.format(notch_freq[0]));\n",
    "axs[1,0].set_title('{0} kHz notch'.format(notch_freq[1]));\n",
    "axs[2,0].set_title('{0} kHz notch'.format(notch_freq[2]));\n",
    "axs[3,0].set_title('{0} kHz notch'.format(notch_freq[3]));\n",
    "axs[4,0].set_title('{0} kHz notch'.format(notch_freq[4]));\n",
    "axs[0,1].set_title('{0} kHz notch'.format(notch_freq[5]));\n",
    "axs[1,1].set_title('{0} kHz notch'.format(notch_freq[6]));\n",
    "axs[2,1].set_title('{0} kHz notch'.format(notch_freq[7]));\n",
    "axs[3,1].set_title('{0} kHz notch'.format(notch_freq[8]));\n",
    "axs[4,1].set_title('{0} kHz notch'.format(notch_freq[9]));\n",
    "\n",
    "for ax in axs.flat:\n",
    "    ax.set(xlabel='Time (ms)', ylabel='Trial #')\n",
    "for ax in axs.flat:\n",
    "    ax.label_outer()\n",
    "    \n",
    "fig1.suptitle('FM Notch Rasters')\n",
    "plt.tight_layout()\n",
    "plt.savefig('D:/Notch Analysis/Tb104_1_FMnotch_chn32.jpg', dpi=300)"
   ]
  },
  {
   "cell_type": "markdown",
   "id": "054e56a8-ab17-47bd-a740-4a3399e3b97f",
   "metadata": {},
   "source": [
    "## "
   ]
  }
 ],
 "metadata": {
  "kernelspec": {
   "display_name": "Python 3",
   "language": "python",
   "name": "python3"
  },
  "language_info": {
   "codemirror_mode": {
    "name": "ipython",
    "version": 3
   },
   "file_extension": ".py",
   "mimetype": "text/x-python",
   "name": "python",
   "nbconvert_exporter": "python",
   "pygments_lexer": "ipython3",
   "version": "3.8.8"
  }
 },
 "nbformat": 4,
 "nbformat_minor": 5
}
