{
 "cells": [
  {
   "cell_type": "code",
   "execution_count": null,
   "metadata": {},
   "outputs": [],
   "source": [
    "import numpy as np\n",
    "from scipy import signal\n",
    "from scipy.io import loadmat\n",
    "import matplotlib.pyplot as plt"
   ]
  },
  {
   "cell_type": "markdown",
   "metadata": {},
   "source": [
    "Enter user-defined information in the cell below"
   ]
  },
  {
   "cell_type": "code",
   "execution_count": null,
   "metadata": {},
   "outputs": [],
   "source": [
    "sr = 40000 # Enter sampling rate in Hz as integer value\n",
    "path = r'D:/Comm Data/Tb08/Matfile/01_call/' # Enter path of file as regular expression\n",
    "lower = 500 # Enter lower frequency for bandpass filter \n",
    "upper = 2000 # Enter higher frequency for bandpass filter"
   ]
  },
  {
   "cell_type": "markdown",
   "metadata": {},
   "source": [
    "The cell below will import and filter data. Graphing will be added in as a git commit"
   ]
  },
  {
   "cell_type": "code",
   "execution_count": null,
   "metadata": {},
   "outputs": [],
   "source": [
    "b, a = signal.ellip(4, 3, 40, (lower/(sr/2), upper/(sr/2)), btype='bandpass', output='ba')\n",
    "channel_1 = loadmat(path+'Chn1.mat')['data']\n",
    "channel_1 = signal.filtfilt(b,a,channel_1)"
   ]
  },
  {
   "cell_type": "code",
   "execution_count": null,
   "metadata": {},
   "outputs": [],
   "source": [
    "fig1 = plt.figure(figsize=(10,6))\n",
    "plt.plot(channel_1[0,:])\n",
    "plt.xlabel('Number of Samples')\n",
    "plt.ylabel('Voltage')\n",
    "plt.title('Channel 1 Spike Data', fontweight='bold')\n",
    "plt.show()"
   ]
  },
  {
   "cell_type": "code",
   "execution_count": null,
   "metadata": {},
   "outputs": [],
   "source": []
  }
 ],
 "metadata": {
  "kernelspec": {
   "display_name": "Python 3",
   "language": "python",
   "name": "python3"
  },
  "language_info": {
   "codemirror_mode": {
    "name": "ipython",
    "version": 3
   },
   "file_extension": ".py",
   "mimetype": "text/x-python",
   "name": "python",
   "nbconvert_exporter": "python",
   "pygments_lexer": "ipython3",
   "version": "3.7.4"
  }
 },
 "nbformat": 4,
 "nbformat_minor": 4
}
